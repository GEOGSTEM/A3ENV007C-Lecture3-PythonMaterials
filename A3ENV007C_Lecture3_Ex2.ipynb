{
  "cells": [
    {
      "cell_type": "markdown",
      "metadata": {
        "id": "2N87d019tdQ2"
      },
      "source": [
        "# A3ENV007C Exercise 2 - Data Visualization and Statistical Analysis in Python\n",
        "\n",
        "With python, we can read and visualize data in many ways. We could also analyze data and make predictions by python.\n",
        "\n",
        "In this notebook, I will show you how to read and visualize data using the following libraries:"
      ]
    },
    {
      "cell_type": "markdown",
      "source": [
        "---\n",
        "## Task 1 - Connect Google Colab to your Google Drive\n",
        "\n",
        "Mount Google Drive into Google Colab to load files and save pictures.\n",
        "\n",
        "Connect to Google Drive → Login → \"Select what Google Drive for Desktop can access\": Select All"
      ],
      "metadata": {
        "id": "fw98z05EUc04"
      }
    },
    {
      "cell_type": "code",
      "source": [
        "from google.colab import drive\n",
        "drive.flush_and_unmount()\n",
        "dir = '/content/drive/MyDrive/Colab Notebooks'\n",
        "drive.mount('/content/drive')"
      ],
      "metadata": {
        "colab": {
          "base_uri": "https://localhost:8080/"
        },
        "id": "k5NSLBxkVQNg",
        "outputId": "26ca4950-9bbc-48c9-8551-c67f3e20dc97"
      },
      "execution_count": null,
      "outputs": [
        {
          "output_type": "stream",
          "name": "stdout",
          "text": [
            "Drive not mounted, so nothing to flush and unmount.\n",
            "Mounted at /content/drive\n"
          ]
        }
      ]
    },
    {
      "cell_type": "markdown",
      "source": [
        "- Go to Google Classroom and download \"sample_temp_wind_speed_humidity.csv\" from Week 3 Materials\n",
        "- Put the csv file inside \"Colab Notebooks\" inside your Google Drive"
      ],
      "metadata": {
        "id": "qOPtFVKIVVZc"
      }
    },
    {
      "cell_type": "markdown",
      "metadata": {
        "id": "_3epPszQtdQ5"
      },
      "source": [
        "---\n",
        "\n",
        "## Task 2 - Reading Data\n",
        "\n",
        "It is widely used in data science and machine learning projects.\n",
        "\n",
        "Pandas is a powerful library for reading and manipulating data. It is widely used in data science and machine learning projects.\n",
        "\n",
        "It allows us to read data from different sources, such as CSV, Excel, SQL, and many others.\n",
        "\n",
        "We can also manipulate data using pandas, such as filtering, grouping, and sorting."
      ]
    },
    {
      "cell_type": "code",
      "execution_count": null,
      "metadata": {
        "id": "m7jB3LKmtdQ6"
      },
      "outputs": [],
      "source": [
        "import pandas as pd  # Import the Pandas library, and rename it as pd for easy reference\n",
        "\n",
        "\n",
        "# Simply read the CSV file using pandas, noted that the path must be correct\n",
        "url = '/content/drive/MyDrive/Colab Notebooks/sample_temp_wind_speed_humidity.csv'\n",
        "df = pd.read_csv(url)"
      ]
    },
    {
      "cell_type": "code",
      "execution_count": null,
      "metadata": {
        "id": "8H5A771JtdQ6",
        "outputId": "0a90a53e-0bad-4b6c-da4c-4081938c753f",
        "colab": {
          "base_uri": "https://localhost:8080/",
          "height": 206
        }
      },
      "outputs": [
        {
          "output_type": "execute_result",
          "data": {
            "text/plain": [
              "         date  month  wind_speed  temperature  humidity\n",
              "0  2013-03-01      3       6.387       14.399    72.125\n",
              "1  2013-03-02      3       6.649       14.549    71.617\n",
              "2  2013-03-03      3       6.743       14.748    71.131\n",
              "3  2013-03-04      3       6.758       14.922    70.864\n",
              "4  2013-03-05      3       6.807       15.125    70.706"
            ],
            "text/html": [
              "\n",
              "  <div id=\"df-8e7788c6-9648-4bba-bbc0-d8bb1e20de6e\" class=\"colab-df-container\">\n",
              "    <div>\n",
              "<style scoped>\n",
              "    .dataframe tbody tr th:only-of-type {\n",
              "        vertical-align: middle;\n",
              "    }\n",
              "\n",
              "    .dataframe tbody tr th {\n",
              "        vertical-align: top;\n",
              "    }\n",
              "\n",
              "    .dataframe thead th {\n",
              "        text-align: right;\n",
              "    }\n",
              "</style>\n",
              "<table border=\"1\" class=\"dataframe\">\n",
              "  <thead>\n",
              "    <tr style=\"text-align: right;\">\n",
              "      <th></th>\n",
              "      <th>date</th>\n",
              "      <th>month</th>\n",
              "      <th>wind_speed</th>\n",
              "      <th>temperature</th>\n",
              "      <th>humidity</th>\n",
              "    </tr>\n",
              "  </thead>\n",
              "  <tbody>\n",
              "    <tr>\n",
              "      <th>0</th>\n",
              "      <td>2013-03-01</td>\n",
              "      <td>3</td>\n",
              "      <td>6.387</td>\n",
              "      <td>14.399</td>\n",
              "      <td>72.125</td>\n",
              "    </tr>\n",
              "    <tr>\n",
              "      <th>1</th>\n",
              "      <td>2013-03-02</td>\n",
              "      <td>3</td>\n",
              "      <td>6.649</td>\n",
              "      <td>14.549</td>\n",
              "      <td>71.617</td>\n",
              "    </tr>\n",
              "    <tr>\n",
              "      <th>2</th>\n",
              "      <td>2013-03-03</td>\n",
              "      <td>3</td>\n",
              "      <td>6.743</td>\n",
              "      <td>14.748</td>\n",
              "      <td>71.131</td>\n",
              "    </tr>\n",
              "    <tr>\n",
              "      <th>3</th>\n",
              "      <td>2013-03-04</td>\n",
              "      <td>3</td>\n",
              "      <td>6.758</td>\n",
              "      <td>14.922</td>\n",
              "      <td>70.864</td>\n",
              "    </tr>\n",
              "    <tr>\n",
              "      <th>4</th>\n",
              "      <td>2013-03-05</td>\n",
              "      <td>3</td>\n",
              "      <td>6.807</td>\n",
              "      <td>15.125</td>\n",
              "      <td>70.706</td>\n",
              "    </tr>\n",
              "  </tbody>\n",
              "</table>\n",
              "</div>\n",
              "    <div class=\"colab-df-buttons\">\n",
              "\n",
              "  <div class=\"colab-df-container\">\n",
              "    <button class=\"colab-df-convert\" onclick=\"convertToInteractive('df-8e7788c6-9648-4bba-bbc0-d8bb1e20de6e')\"\n",
              "            title=\"Convert this dataframe to an interactive table.\"\n",
              "            style=\"display:none;\">\n",
              "\n",
              "  <svg xmlns=\"http://www.w3.org/2000/svg\" height=\"24px\" viewBox=\"0 -960 960 960\">\n",
              "    <path d=\"M120-120v-720h720v720H120Zm60-500h600v-160H180v160Zm220 220h160v-160H400v160Zm0 220h160v-160H400v160ZM180-400h160v-160H180v160Zm440 0h160v-160H620v160ZM180-180h160v-160H180v160Zm440 0h160v-160H620v160Z\"/>\n",
              "  </svg>\n",
              "    </button>\n",
              "\n",
              "  <style>\n",
              "    .colab-df-container {\n",
              "      display:flex;\n",
              "      gap: 12px;\n",
              "    }\n",
              "\n",
              "    .colab-df-convert {\n",
              "      background-color: #E8F0FE;\n",
              "      border: none;\n",
              "      border-radius: 50%;\n",
              "      cursor: pointer;\n",
              "      display: none;\n",
              "      fill: #1967D2;\n",
              "      height: 32px;\n",
              "      padding: 0 0 0 0;\n",
              "      width: 32px;\n",
              "    }\n",
              "\n",
              "    .colab-df-convert:hover {\n",
              "      background-color: #E2EBFA;\n",
              "      box-shadow: 0px 1px 2px rgba(60, 64, 67, 0.3), 0px 1px 3px 1px rgba(60, 64, 67, 0.15);\n",
              "      fill: #174EA6;\n",
              "    }\n",
              "\n",
              "    .colab-df-buttons div {\n",
              "      margin-bottom: 4px;\n",
              "    }\n",
              "\n",
              "    [theme=dark] .colab-df-convert {\n",
              "      background-color: #3B4455;\n",
              "      fill: #D2E3FC;\n",
              "    }\n",
              "\n",
              "    [theme=dark] .colab-df-convert:hover {\n",
              "      background-color: #434B5C;\n",
              "      box-shadow: 0px 1px 3px 1px rgba(0, 0, 0, 0.15);\n",
              "      filter: drop-shadow(0px 1px 2px rgba(0, 0, 0, 0.3));\n",
              "      fill: #FFFFFF;\n",
              "    }\n",
              "  </style>\n",
              "\n",
              "    <script>\n",
              "      const buttonEl =\n",
              "        document.querySelector('#df-8e7788c6-9648-4bba-bbc0-d8bb1e20de6e button.colab-df-convert');\n",
              "      buttonEl.style.display =\n",
              "        google.colab.kernel.accessAllowed ? 'block' : 'none';\n",
              "\n",
              "      async function convertToInteractive(key) {\n",
              "        const element = document.querySelector('#df-8e7788c6-9648-4bba-bbc0-d8bb1e20de6e');\n",
              "        const dataTable =\n",
              "          await google.colab.kernel.invokeFunction('convertToInteractive',\n",
              "                                                    [key], {});\n",
              "        if (!dataTable) return;\n",
              "\n",
              "        const docLinkHtml = 'Like what you see? Visit the ' +\n",
              "          '<a target=\"_blank\" href=https://colab.research.google.com/notebooks/data_table.ipynb>data table notebook</a>'\n",
              "          + ' to learn more about interactive tables.';\n",
              "        element.innerHTML = '';\n",
              "        dataTable['output_type'] = 'display_data';\n",
              "        await google.colab.output.renderOutput(dataTable, element);\n",
              "        const docLink = document.createElement('div');\n",
              "        docLink.innerHTML = docLinkHtml;\n",
              "        element.appendChild(docLink);\n",
              "      }\n",
              "    </script>\n",
              "  </div>\n",
              "\n",
              "\n",
              "<div id=\"df-c74283a7-2c44-4d51-a2a0-5b94685af44f\">\n",
              "  <button class=\"colab-df-quickchart\" onclick=\"quickchart('df-c74283a7-2c44-4d51-a2a0-5b94685af44f')\"\n",
              "            title=\"Suggest charts\"\n",
              "            style=\"display:none;\">\n",
              "\n",
              "<svg xmlns=\"http://www.w3.org/2000/svg\" height=\"24px\"viewBox=\"0 0 24 24\"\n",
              "     width=\"24px\">\n",
              "    <g>\n",
              "        <path d=\"M19 3H5c-1.1 0-2 .9-2 2v14c0 1.1.9 2 2 2h14c1.1 0 2-.9 2-2V5c0-1.1-.9-2-2-2zM9 17H7v-7h2v7zm4 0h-2V7h2v10zm4 0h-2v-4h2v4z\"/>\n",
              "    </g>\n",
              "</svg>\n",
              "  </button>\n",
              "\n",
              "<style>\n",
              "  .colab-df-quickchart {\n",
              "      --bg-color: #E8F0FE;\n",
              "      --fill-color: #1967D2;\n",
              "      --hover-bg-color: #E2EBFA;\n",
              "      --hover-fill-color: #174EA6;\n",
              "      --disabled-fill-color: #AAA;\n",
              "      --disabled-bg-color: #DDD;\n",
              "  }\n",
              "\n",
              "  [theme=dark] .colab-df-quickchart {\n",
              "      --bg-color: #3B4455;\n",
              "      --fill-color: #D2E3FC;\n",
              "      --hover-bg-color: #434B5C;\n",
              "      --hover-fill-color: #FFFFFF;\n",
              "      --disabled-bg-color: #3B4455;\n",
              "      --disabled-fill-color: #666;\n",
              "  }\n",
              "\n",
              "  .colab-df-quickchart {\n",
              "    background-color: var(--bg-color);\n",
              "    border: none;\n",
              "    border-radius: 50%;\n",
              "    cursor: pointer;\n",
              "    display: none;\n",
              "    fill: var(--fill-color);\n",
              "    height: 32px;\n",
              "    padding: 0;\n",
              "    width: 32px;\n",
              "  }\n",
              "\n",
              "  .colab-df-quickchart:hover {\n",
              "    background-color: var(--hover-bg-color);\n",
              "    box-shadow: 0 1px 2px rgba(60, 64, 67, 0.3), 0 1px 3px 1px rgba(60, 64, 67, 0.15);\n",
              "    fill: var(--button-hover-fill-color);\n",
              "  }\n",
              "\n",
              "  .colab-df-quickchart-complete:disabled,\n",
              "  .colab-df-quickchart-complete:disabled:hover {\n",
              "    background-color: var(--disabled-bg-color);\n",
              "    fill: var(--disabled-fill-color);\n",
              "    box-shadow: none;\n",
              "  }\n",
              "\n",
              "  .colab-df-spinner {\n",
              "    border: 2px solid var(--fill-color);\n",
              "    border-color: transparent;\n",
              "    border-bottom-color: var(--fill-color);\n",
              "    animation:\n",
              "      spin 1s steps(1) infinite;\n",
              "  }\n",
              "\n",
              "  @keyframes spin {\n",
              "    0% {\n",
              "      border-color: transparent;\n",
              "      border-bottom-color: var(--fill-color);\n",
              "      border-left-color: var(--fill-color);\n",
              "    }\n",
              "    20% {\n",
              "      border-color: transparent;\n",
              "      border-left-color: var(--fill-color);\n",
              "      border-top-color: var(--fill-color);\n",
              "    }\n",
              "    30% {\n",
              "      border-color: transparent;\n",
              "      border-left-color: var(--fill-color);\n",
              "      border-top-color: var(--fill-color);\n",
              "      border-right-color: var(--fill-color);\n",
              "    }\n",
              "    40% {\n",
              "      border-color: transparent;\n",
              "      border-right-color: var(--fill-color);\n",
              "      border-top-color: var(--fill-color);\n",
              "    }\n",
              "    60% {\n",
              "      border-color: transparent;\n",
              "      border-right-color: var(--fill-color);\n",
              "    }\n",
              "    80% {\n",
              "      border-color: transparent;\n",
              "      border-right-color: var(--fill-color);\n",
              "      border-bottom-color: var(--fill-color);\n",
              "    }\n",
              "    90% {\n",
              "      border-color: transparent;\n",
              "      border-bottom-color: var(--fill-color);\n",
              "    }\n",
              "  }\n",
              "</style>\n",
              "\n",
              "  <script>\n",
              "    async function quickchart(key) {\n",
              "      const quickchartButtonEl =\n",
              "        document.querySelector('#' + key + ' button');\n",
              "      quickchartButtonEl.disabled = true;  // To prevent multiple clicks.\n",
              "      quickchartButtonEl.classList.add('colab-df-spinner');\n",
              "      try {\n",
              "        const charts = await google.colab.kernel.invokeFunction(\n",
              "            'suggestCharts', [key], {});\n",
              "      } catch (error) {\n",
              "        console.error('Error during call to suggestCharts:', error);\n",
              "      }\n",
              "      quickchartButtonEl.classList.remove('colab-df-spinner');\n",
              "      quickchartButtonEl.classList.add('colab-df-quickchart-complete');\n",
              "    }\n",
              "    (() => {\n",
              "      let quickchartButtonEl =\n",
              "        document.querySelector('#df-c74283a7-2c44-4d51-a2a0-5b94685af44f button');\n",
              "      quickchartButtonEl.style.display =\n",
              "        google.colab.kernel.accessAllowed ? 'block' : 'none';\n",
              "    })();\n",
              "  </script>\n",
              "</div>\n",
              "    </div>\n",
              "  </div>\n"
            ],
            "application/vnd.google.colaboratory.intrinsic+json": {
              "type": "dataframe",
              "variable_name": "df",
              "summary": "{\n  \"name\": \"df\",\n  \"rows\": 1403,\n  \"fields\": [\n    {\n      \"column\": \"date\",\n      \"properties\": {\n        \"dtype\": \"object\",\n        \"num_unique_values\": 1403,\n        \"samples\": [\n          \"2016-02-28\",\n          \"2015-09-09\",\n          \"2013-04-19\"\n        ],\n        \"semantic_type\": \"\",\n        \"description\": \"\"\n      }\n    },\n    {\n      \"column\": \"month\",\n      \"properties\": {\n        \"dtype\": \"number\",\n        \"std\": 3,\n        \"min\": 1,\n        \"max\": 12,\n        \"num_unique_values\": 12,\n        \"samples\": [\n          1,\n          12,\n          3\n        ],\n        \"semantic_type\": \"\",\n        \"description\": \"\"\n      }\n    },\n    {\n      \"column\": \"wind_speed\",\n      \"properties\": {\n        \"dtype\": \"number\",\n        \"std\": 1.8293839912732457,\n        \"min\": 2.63,\n        \"max\": 9.947,\n        \"num_unique_values\": 1225,\n        \"samples\": [\n          4.069,\n          7.847,\n          3.111\n        ],\n        \"semantic_type\": \"\",\n        \"description\": \"\"\n      }\n    },\n    {\n      \"column\": \"temperature\",\n      \"properties\": {\n        \"dtype\": \"number\",\n        \"std\": 6.475075680211663,\n        \"min\": 12.983,\n        \"max\": 34.842,\n        \"num_unique_values\": 1338,\n        \"samples\": [\n          24.591,\n          30.638,\n          30.673\n        ],\n        \"semantic_type\": \"\",\n        \"description\": \"\"\n      }\n    },\n    {\n      \"column\": \"humidity\",\n      \"properties\": {\n        \"dtype\": \"number\",\n        \"std\": 12.076888575476376,\n        \"min\": 31.499,\n        \"max\": 82.447,\n        \"num_unique_values\": 1376,\n        \"samples\": [\n          49.224,\n          42.611,\n          41.981\n        ],\n        \"semantic_type\": \"\",\n        \"description\": \"\"\n      }\n    }\n  ]\n}"
            }
          },
          "metadata": {},
          "execution_count": 3
        }
      ],
      "source": [
        "# Print the first 5 rows of the data\n",
        "df.head(5)"
      ]
    },
    {
      "cell_type": "code",
      "execution_count": null,
      "metadata": {
        "id": "gCCVuSz7tdQ7",
        "outputId": "c81d2632-06f8-4f0d-8d0c-493430cc10eb",
        "colab": {
          "base_uri": "https://localhost:8080/",
          "height": 300
        }
      },
      "outputs": [
        {
          "output_type": "execute_result",
          "data": {
            "text/plain": [
              "             month   wind_speed  temperature     humidity\n",
              "count  1403.000000  1403.000000  1403.000000  1403.000000\n",
              "mean      6.731290     6.843569    25.915780    60.375017\n",
              "std       3.359966     1.829384     6.475076    12.076889\n",
              "min       1.000000     2.630000    12.983000    31.499000\n",
              "25%       4.000000     5.618500    20.292500    53.507500\n",
              "50%       7.000000     7.217000    28.309000    61.978000\n",
              "75%      10.000000     8.307000    31.168500    69.735000\n",
              "max      12.000000     9.947000    34.842000    82.447000"
            ],
            "text/html": [
              "\n",
              "  <div id=\"df-5cb72396-15ae-44ff-bdf6-4e514992bf30\" class=\"colab-df-container\">\n",
              "    <div>\n",
              "<style scoped>\n",
              "    .dataframe tbody tr th:only-of-type {\n",
              "        vertical-align: middle;\n",
              "    }\n",
              "\n",
              "    .dataframe tbody tr th {\n",
              "        vertical-align: top;\n",
              "    }\n",
              "\n",
              "    .dataframe thead th {\n",
              "        text-align: right;\n",
              "    }\n",
              "</style>\n",
              "<table border=\"1\" class=\"dataframe\">\n",
              "  <thead>\n",
              "    <tr style=\"text-align: right;\">\n",
              "      <th></th>\n",
              "      <th>month</th>\n",
              "      <th>wind_speed</th>\n",
              "      <th>temperature</th>\n",
              "      <th>humidity</th>\n",
              "    </tr>\n",
              "  </thead>\n",
              "  <tbody>\n",
              "    <tr>\n",
              "      <th>count</th>\n",
              "      <td>1403.000000</td>\n",
              "      <td>1403.000000</td>\n",
              "      <td>1403.000000</td>\n",
              "      <td>1403.000000</td>\n",
              "    </tr>\n",
              "    <tr>\n",
              "      <th>mean</th>\n",
              "      <td>6.731290</td>\n",
              "      <td>6.843569</td>\n",
              "      <td>25.915780</td>\n",
              "      <td>60.375017</td>\n",
              "    </tr>\n",
              "    <tr>\n",
              "      <th>std</th>\n",
              "      <td>3.359966</td>\n",
              "      <td>1.829384</td>\n",
              "      <td>6.475076</td>\n",
              "      <td>12.076889</td>\n",
              "    </tr>\n",
              "    <tr>\n",
              "      <th>min</th>\n",
              "      <td>1.000000</td>\n",
              "      <td>2.630000</td>\n",
              "      <td>12.983000</td>\n",
              "      <td>31.499000</td>\n",
              "    </tr>\n",
              "    <tr>\n",
              "      <th>25%</th>\n",
              "      <td>4.000000</td>\n",
              "      <td>5.618500</td>\n",
              "      <td>20.292500</td>\n",
              "      <td>53.507500</td>\n",
              "    </tr>\n",
              "    <tr>\n",
              "      <th>50%</th>\n",
              "      <td>7.000000</td>\n",
              "      <td>7.217000</td>\n",
              "      <td>28.309000</td>\n",
              "      <td>61.978000</td>\n",
              "    </tr>\n",
              "    <tr>\n",
              "      <th>75%</th>\n",
              "      <td>10.000000</td>\n",
              "      <td>8.307000</td>\n",
              "      <td>31.168500</td>\n",
              "      <td>69.735000</td>\n",
              "    </tr>\n",
              "    <tr>\n",
              "      <th>max</th>\n",
              "      <td>12.000000</td>\n",
              "      <td>9.947000</td>\n",
              "      <td>34.842000</td>\n",
              "      <td>82.447000</td>\n",
              "    </tr>\n",
              "  </tbody>\n",
              "</table>\n",
              "</div>\n",
              "    <div class=\"colab-df-buttons\">\n",
              "\n",
              "  <div class=\"colab-df-container\">\n",
              "    <button class=\"colab-df-convert\" onclick=\"convertToInteractive('df-5cb72396-15ae-44ff-bdf6-4e514992bf30')\"\n",
              "            title=\"Convert this dataframe to an interactive table.\"\n",
              "            style=\"display:none;\">\n",
              "\n",
              "  <svg xmlns=\"http://www.w3.org/2000/svg\" height=\"24px\" viewBox=\"0 -960 960 960\">\n",
              "    <path d=\"M120-120v-720h720v720H120Zm60-500h600v-160H180v160Zm220 220h160v-160H400v160Zm0 220h160v-160H400v160ZM180-400h160v-160H180v160Zm440 0h160v-160H620v160ZM180-180h160v-160H180v160Zm440 0h160v-160H620v160Z\"/>\n",
              "  </svg>\n",
              "    </button>\n",
              "\n",
              "  <style>\n",
              "    .colab-df-container {\n",
              "      display:flex;\n",
              "      gap: 12px;\n",
              "    }\n",
              "\n",
              "    .colab-df-convert {\n",
              "      background-color: #E8F0FE;\n",
              "      border: none;\n",
              "      border-radius: 50%;\n",
              "      cursor: pointer;\n",
              "      display: none;\n",
              "      fill: #1967D2;\n",
              "      height: 32px;\n",
              "      padding: 0 0 0 0;\n",
              "      width: 32px;\n",
              "    }\n",
              "\n",
              "    .colab-df-convert:hover {\n",
              "      background-color: #E2EBFA;\n",
              "      box-shadow: 0px 1px 2px rgba(60, 64, 67, 0.3), 0px 1px 3px 1px rgba(60, 64, 67, 0.15);\n",
              "      fill: #174EA6;\n",
              "    }\n",
              "\n",
              "    .colab-df-buttons div {\n",
              "      margin-bottom: 4px;\n",
              "    }\n",
              "\n",
              "    [theme=dark] .colab-df-convert {\n",
              "      background-color: #3B4455;\n",
              "      fill: #D2E3FC;\n",
              "    }\n",
              "\n",
              "    [theme=dark] .colab-df-convert:hover {\n",
              "      background-color: #434B5C;\n",
              "      box-shadow: 0px 1px 3px 1px rgba(0, 0, 0, 0.15);\n",
              "      filter: drop-shadow(0px 1px 2px rgba(0, 0, 0, 0.3));\n",
              "      fill: #FFFFFF;\n",
              "    }\n",
              "  </style>\n",
              "\n",
              "    <script>\n",
              "      const buttonEl =\n",
              "        document.querySelector('#df-5cb72396-15ae-44ff-bdf6-4e514992bf30 button.colab-df-convert');\n",
              "      buttonEl.style.display =\n",
              "        google.colab.kernel.accessAllowed ? 'block' : 'none';\n",
              "\n",
              "      async function convertToInteractive(key) {\n",
              "        const element = document.querySelector('#df-5cb72396-15ae-44ff-bdf6-4e514992bf30');\n",
              "        const dataTable =\n",
              "          await google.colab.kernel.invokeFunction('convertToInteractive',\n",
              "                                                    [key], {});\n",
              "        if (!dataTable) return;\n",
              "\n",
              "        const docLinkHtml = 'Like what you see? Visit the ' +\n",
              "          '<a target=\"_blank\" href=https://colab.research.google.com/notebooks/data_table.ipynb>data table notebook</a>'\n",
              "          + ' to learn more about interactive tables.';\n",
              "        element.innerHTML = '';\n",
              "        dataTable['output_type'] = 'display_data';\n",
              "        await google.colab.output.renderOutput(dataTable, element);\n",
              "        const docLink = document.createElement('div');\n",
              "        docLink.innerHTML = docLinkHtml;\n",
              "        element.appendChild(docLink);\n",
              "      }\n",
              "    </script>\n",
              "  </div>\n",
              "\n",
              "\n",
              "<div id=\"df-f0742286-7e4b-438e-afaa-7f3f0180e8bb\">\n",
              "  <button class=\"colab-df-quickchart\" onclick=\"quickchart('df-f0742286-7e4b-438e-afaa-7f3f0180e8bb')\"\n",
              "            title=\"Suggest charts\"\n",
              "            style=\"display:none;\">\n",
              "\n",
              "<svg xmlns=\"http://www.w3.org/2000/svg\" height=\"24px\"viewBox=\"0 0 24 24\"\n",
              "     width=\"24px\">\n",
              "    <g>\n",
              "        <path d=\"M19 3H5c-1.1 0-2 .9-2 2v14c0 1.1.9 2 2 2h14c1.1 0 2-.9 2-2V5c0-1.1-.9-2-2-2zM9 17H7v-7h2v7zm4 0h-2V7h2v10zm4 0h-2v-4h2v4z\"/>\n",
              "    </g>\n",
              "</svg>\n",
              "  </button>\n",
              "\n",
              "<style>\n",
              "  .colab-df-quickchart {\n",
              "      --bg-color: #E8F0FE;\n",
              "      --fill-color: #1967D2;\n",
              "      --hover-bg-color: #E2EBFA;\n",
              "      --hover-fill-color: #174EA6;\n",
              "      --disabled-fill-color: #AAA;\n",
              "      --disabled-bg-color: #DDD;\n",
              "  }\n",
              "\n",
              "  [theme=dark] .colab-df-quickchart {\n",
              "      --bg-color: #3B4455;\n",
              "      --fill-color: #D2E3FC;\n",
              "      --hover-bg-color: #434B5C;\n",
              "      --hover-fill-color: #FFFFFF;\n",
              "      --disabled-bg-color: #3B4455;\n",
              "      --disabled-fill-color: #666;\n",
              "  }\n",
              "\n",
              "  .colab-df-quickchart {\n",
              "    background-color: var(--bg-color);\n",
              "    border: none;\n",
              "    border-radius: 50%;\n",
              "    cursor: pointer;\n",
              "    display: none;\n",
              "    fill: var(--fill-color);\n",
              "    height: 32px;\n",
              "    padding: 0;\n",
              "    width: 32px;\n",
              "  }\n",
              "\n",
              "  .colab-df-quickchart:hover {\n",
              "    background-color: var(--hover-bg-color);\n",
              "    box-shadow: 0 1px 2px rgba(60, 64, 67, 0.3), 0 1px 3px 1px rgba(60, 64, 67, 0.15);\n",
              "    fill: var(--button-hover-fill-color);\n",
              "  }\n",
              "\n",
              "  .colab-df-quickchart-complete:disabled,\n",
              "  .colab-df-quickchart-complete:disabled:hover {\n",
              "    background-color: var(--disabled-bg-color);\n",
              "    fill: var(--disabled-fill-color);\n",
              "    box-shadow: none;\n",
              "  }\n",
              "\n",
              "  .colab-df-spinner {\n",
              "    border: 2px solid var(--fill-color);\n",
              "    border-color: transparent;\n",
              "    border-bottom-color: var(--fill-color);\n",
              "    animation:\n",
              "      spin 1s steps(1) infinite;\n",
              "  }\n",
              "\n",
              "  @keyframes spin {\n",
              "    0% {\n",
              "      border-color: transparent;\n",
              "      border-bottom-color: var(--fill-color);\n",
              "      border-left-color: var(--fill-color);\n",
              "    }\n",
              "    20% {\n",
              "      border-color: transparent;\n",
              "      border-left-color: var(--fill-color);\n",
              "      border-top-color: var(--fill-color);\n",
              "    }\n",
              "    30% {\n",
              "      border-color: transparent;\n",
              "      border-left-color: var(--fill-color);\n",
              "      border-top-color: var(--fill-color);\n",
              "      border-right-color: var(--fill-color);\n",
              "    }\n",
              "    40% {\n",
              "      border-color: transparent;\n",
              "      border-right-color: var(--fill-color);\n",
              "      border-top-color: var(--fill-color);\n",
              "    }\n",
              "    60% {\n",
              "      border-color: transparent;\n",
              "      border-right-color: var(--fill-color);\n",
              "    }\n",
              "    80% {\n",
              "      border-color: transparent;\n",
              "      border-right-color: var(--fill-color);\n",
              "      border-bottom-color: var(--fill-color);\n",
              "    }\n",
              "    90% {\n",
              "      border-color: transparent;\n",
              "      border-bottom-color: var(--fill-color);\n",
              "    }\n",
              "  }\n",
              "</style>\n",
              "\n",
              "  <script>\n",
              "    async function quickchart(key) {\n",
              "      const quickchartButtonEl =\n",
              "        document.querySelector('#' + key + ' button');\n",
              "      quickchartButtonEl.disabled = true;  // To prevent multiple clicks.\n",
              "      quickchartButtonEl.classList.add('colab-df-spinner');\n",
              "      try {\n",
              "        const charts = await google.colab.kernel.invokeFunction(\n",
              "            'suggestCharts', [key], {});\n",
              "      } catch (error) {\n",
              "        console.error('Error during call to suggestCharts:', error);\n",
              "      }\n",
              "      quickchartButtonEl.classList.remove('colab-df-spinner');\n",
              "      quickchartButtonEl.classList.add('colab-df-quickchart-complete');\n",
              "    }\n",
              "    (() => {\n",
              "      let quickchartButtonEl =\n",
              "        document.querySelector('#df-f0742286-7e4b-438e-afaa-7f3f0180e8bb button');\n",
              "      quickchartButtonEl.style.display =\n",
              "        google.colab.kernel.accessAllowed ? 'block' : 'none';\n",
              "    })();\n",
              "  </script>\n",
              "</div>\n",
              "    </div>\n",
              "  </div>\n"
            ],
            "application/vnd.google.colaboratory.intrinsic+json": {
              "type": "dataframe",
              "summary": "{\n  \"name\": \"df\",\n  \"rows\": 8,\n  \"fields\": [\n    {\n      \"column\": \"month\",\n      \"properties\": {\n        \"dtype\": \"number\",\n        \"std\": 493.82131843698005,\n        \"min\": 1.0,\n        \"max\": 1403.0,\n        \"num_unique_values\": 8,\n        \"samples\": [\n          6.731290092658589,\n          7.0,\n          1403.0\n        ],\n        \"semantic_type\": \"\",\n        \"description\": \"\"\n      }\n    },\n    {\n      \"column\": \"wind_speed\",\n      \"properties\": {\n        \"dtype\": \"number\",\n        \"std\": 493.9017805556447,\n        \"min\": 1.8293839912732457,\n        \"max\": 1403.0,\n        \"num_unique_values\": 8,\n        \"samples\": [\n          6.843568781183178,\n          7.217,\n          1403.0\n        ],\n        \"semantic_type\": \"\",\n        \"description\": \"\"\n      }\n    },\n    {\n      \"column\": \"temperature\",\n      \"properties\": {\n        \"dtype\": \"number\",\n        \"std\": 488.0462711741714,\n        \"min\": 6.475075680211663,\n        \"max\": 1403.0,\n        \"num_unique_values\": 8,\n        \"samples\": [\n          25.915780470420525,\n          28.309,\n          1403.0\n        ],\n        \"semantic_type\": \"\",\n        \"description\": \"\"\n      }\n    },\n    {\n      \"column\": \"humidity\",\n      \"properties\": {\n        \"dtype\": \"number\",\n        \"std\": 477.7773201100019,\n        \"min\": 12.076888575476376,\n        \"max\": 1403.0,\n        \"num_unique_values\": 8,\n        \"samples\": [\n          60.375017106201,\n          61.978,\n          1403.0\n        ],\n        \"semantic_type\": \"\",\n        \"description\": \"\"\n      }\n    }\n  ]\n}"
            }
          },
          "metadata": {},
          "execution_count": 4
        }
      ],
      "source": [
        "# Print the summary statistics of the data\n",
        "df.describe()"
      ]
    },
    {
      "cell_type": "code",
      "execution_count": null,
      "metadata": {
        "id": "pXeYYxULtdQ7",
        "colab": {
          "base_uri": "https://localhost:8080/"
        },
        "outputId": "9372711c-089b-40ac-c46b-8169f8c70d4e"
      },
      "outputs": [
        {
          "output_type": "stream",
          "name": "stdout",
          "text": [
            "           date  month  wind_speed  temperature  humidity\n",
            "0    2013-03-01      3       6.387       14.399    72.125\n",
            "1    2013-03-02      3       6.649       14.549    71.617\n",
            "2    2013-03-03      3       6.743       14.748    71.131\n",
            "3    2013-03-04      3       6.758       14.922    70.864\n",
            "4    2013-03-05      3       6.807       15.125    70.706\n",
            "...         ...    ...         ...          ...       ...\n",
            "1398 2016-12-28     12       5.900       20.692    60.482\n",
            "1399 2016-12-29     12       5.966       20.533    60.762\n",
            "1400 2016-12-30     12       6.043       20.359    61.143\n",
            "1401 2016-12-31     12       6.120       20.203    61.614\n",
            "1402 2017-01-01      1       6.096       19.974    62.183\n",
            "\n",
            "[1403 rows x 5 columns]\n"
          ]
        }
      ],
      "source": [
        "# Convert the date column to datetime format\n",
        "df[\"date\"] = pd.to_datetime(df[\"date\"], format=\"%Y-%m-%d\")\n",
        "\n",
        "print(df)"
      ]
    },
    {
      "cell_type": "markdown",
      "metadata": {
        "id": "Y7pt9PULtdQ7"
      },
      "source": [
        "---\n",
        "\n",
        "## Task 3 - Visualizing Data\n",
        "\n",
        "We can easily visualize data using the matplotlib library.\n",
        "\n",
        "It is a powerful library for scientific visualization."
      ]
    },
    {
      "cell_type": "code",
      "execution_count": null,
      "metadata": {
        "id": "WPi8mHGJtdQ7"
      },
      "outputs": [],
      "source": [
        "# Import the necessary libraries\n",
        "import matplotlib.pyplot as plt\n",
        "\n",
        "%matplotlib inline"
      ]
    },
    {
      "cell_type": "code",
      "execution_count": null,
      "metadata": {
        "id": "UfTqfxLUtdQ8",
        "colab": {
          "base_uri": "https://localhost:8080/",
          "height": 472
        },
        "outputId": "824a4cae-1bb9-4544-eef1-f600dcd456d7"
      },
      "outputs": [
        {
          "output_type": "display_data",
          "data": {
            "text/plain": [
              "<Figure size 640x480 with 1 Axes>"
            ],
            "image/png": "[encoded data removed]"
          },
          "metadata": {}
        }
      ],
      "source": [
        "# Plot the temperature data\n",
        "plt.plot(df[\"date\"], df[\"temperature\"])\n",
        "plt.title(\"Temperature\")\n",
        "plt.xlabel(\"Date\")\n",
        "plt.ylabel(\"Temperature in Celsius\")\n",
        "plt.show()"
      ]
    },
    {
      "cell_type": "code",
      "execution_count": null,
      "metadata": {
        "id": "FKxqwTYEtdQ8",
        "colab": {
          "base_uri": "https://localhost:8080/",
          "height": 472
        },
        "outputId": "24f0564c-98b2-4bb9-cc08-4334130a6316"
      },
      "outputs": [
        {
          "output_type": "display_data",
          "data": {
            "text/plain": [
              "<Figure size 640x480 with 1 Axes>"
            ],
            "image/png": "[encoded data removed]"
          },
          "metadata": {}
        }
      ],
      "source": [
        "# Plot the wind speed data\n",
        "plt.plot(df[\"date\"], df[\"wind_speed\"])\n",
        "plt.title(\"Wind Speed\")\n",
        "plt.xlabel(\"Date\")\n",
        "plt.ylabel(\"Wind Speed in m/s\")\n",
        "plt.show()"
      ]
    },
    {
      "cell_type": "code",
      "execution_count": null,
      "metadata": {
        "id": "nQ8zKKdmtdQ8",
        "colab": {
          "base_uri": "https://localhost:8080/",
          "height": 472
        },
        "outputId": "89bd3890-7302-4ad6-9c94-a311cf38f7f3"
      },
      "outputs": [
        {
          "output_type": "display_data",
          "data": {
            "text/plain": [
              "<Figure size 640x480 with 1 Axes>"
            ],
            "image/png": "[encoded data removed]"
          },
          "metadata": {}
        }
      ],
      "source": [
        "# Plot the humidity data\n",
        "\n",
        "plt.plot(df[\"date\"], df[\"humidity\"])\n",
        "plt.title(\"Humidity\")\n",
        "plt.xlabel(\"Date\")\n",
        "plt.ylabel(\"Humidity in %\")\n",
        "plt.show()"
      ]
    },
    {
      "cell_type": "code",
      "execution_count": null,
      "metadata": {
        "id": "n5kxJrM9tdQ9",
        "colab": {
          "base_uri": "https://localhost:8080/",
          "height": 462
        },
        "outputId": "d971750b-fa01-4177-c93b-c662cf9aa34c"
      },
      "outputs": [
        {
          "output_type": "display_data",
          "data": {
            "text/plain": [
              "<Figure size 640x480 with 3 Axes>"
            ],
            "image/png": "[encoded data removed]"
          },
          "metadata": {}
        }
      ],
      "source": [
        "# Plotting all together\n",
        "fig, axs = plt.subplots(3, 1, sharex=True)\n",
        "\n",
        "axs[0].plot(df[\"date\"], df[\"temperature\"])\n",
        "axs[0].set_ylabel(\"Temperature\")\n",
        "\n",
        "axs[1].plot(df[\"date\"], df[\"wind_speed\"])\n",
        "axs[1].set_ylabel(\"Wind Speed\")\n",
        "\n",
        "axs[2].plot(df[\"date\"], df[\"humidity\"])\n",
        "axs[2].set_ylabel(\"Humidity\")\n",
        "\n",
        "\n",
        "fig.suptitle(\"Weather Data\")\n",
        "fig.autofmt_xdate()\n",
        "fig.show()"
      ]
    },
    {
      "cell_type": "markdown",
      "metadata": {
        "id": "bNkFOdqDtdQ9"
      },
      "source": [
        "---\n",
        "\n",
        "## Task 4 - Analyzing Data\n",
        "\n",
        "Programming allow us to analyze data and make predictions."
      ]
    },
    {
      "cell_type": "markdown",
      "metadata": {
        "id": "54TSXH_6tdQ9"
      },
      "source": [
        "### Example 1. What is the mean temperature in the dataset?"
      ]
    },
    {
      "cell_type": "code",
      "execution_count": null,
      "metadata": {
        "id": "moGPcCputdQ9",
        "colab": {
          "base_uri": "https://localhost:8080/"
        },
        "outputId": "86d37b60-0972-43cd-fdb0-79beb05d22af"
      },
      "outputs": [
        {
          "output_type": "stream",
          "name": "stdout",
          "text": [
            "The mean temperature is 25.915780470420525 Celsius\n"
          ]
        }
      ],
      "source": [
        "mean_temperature = df[\"temperature\"].mean()\n",
        "\n",
        "\n",
        "print(\"The mean temperature is\", mean_temperature, \"Celsius\")"
      ]
    },
    {
      "cell_type": "markdown",
      "metadata": {
        "id": "dOQ-JpPotdQ-"
      },
      "source": [
        "### Example 2. What is the maximum temperature in the dataset?\n",
        "- Please try to ADD SOMETHING IN THE SCRIPT to find the maximum temperature in the dataset"
      ]
    },
    {
      "cell_type": "code",
      "execution_count": null,
      "metadata": {
        "id": "ee3BkseJtdQ-",
        "colab": {
          "base_uri": "https://localhost:8080/"
        },
        "outputId": "6842b44c-1f12-45ed-ea26-25ee1988074d"
      },
      "outputs": [
        {
          "output_type": "stream",
          "name": "stdout",
          "text": [
            "The maximum temperature is Ellipsis Celsius\n"
          ]
        }
      ],
      "source": [
        "max_temperature = ...  # Compute the maximum temperature\n",
        "\n",
        "print(\"The maximum temperature is\", max_temperature, \"Celsius\")"
      ]
    },
    {
      "cell_type": "markdown",
      "metadata": {
        "id": "QO0DuqEWtdQ-"
      },
      "source": [
        "<details>\n",
        "\n",
        "<summary>Answer</summary>\n",
        "\n",
        "\n",
        "```python\n",
        "max_temperature = df['temperature']\n",
        "```\n",
        "\n",
        "</details>"
      ]
    },
    {
      "cell_type": "markdown",
      "metadata": {
        "id": "oGp-KbvjtdQ-"
      },
      "source": [
        "### Example 3. What is the minimum temperature in the dataset?\n",
        "- Please try to ADD SOMETHING IN THE SCRIPT to find the minimum temperature in the dataset"
      ]
    },
    {
      "cell_type": "code",
      "execution_count": null,
      "metadata": {
        "id": "7D6UPFLntdQ-"
      },
      "outputs": [],
      "source": [
        "min_temperature = ...  # Compute the minimum temperature\n",
        "\n",
        "print(\"The minimum temperature is\", min_temperature, \"Celsius\")"
      ]
    },
    {
      "cell_type": "markdown",
      "metadata": {
        "id": "lpC1Bbd2tdQ_"
      },
      "source": [
        "<details>\n",
        "\n",
        "<summary>Answer</summary>\n",
        "\n",
        "\n",
        "```python\n",
        "min_temperature = df['temperature'].min()\n",
        "```\n",
        "\n",
        "</details>"
      ]
    },
    {
      "cell_type": "markdown",
      "metadata": {
        "id": "rHto7PPTtdQ_"
      },
      "source": [
        "### Example 4, what is the apparent temperature in the dataset?\n",
        "\n",
        "The apparent temperature is the temperature that humans perceive, which is different from the actual temperature.\n",
        "\n",
        "The relationship between the apparent temperature and the actual temperature is given by the formula:\n",
        "\n",
        "$$ AT = 1.07  T - 0.2 e - 0.65  V - 2.7 $$\n",
        "\n",
        "$$ e = \\frac{RH}{100} \\times 6.105 \\times \\exp(\\frac{17.27 T}{237.7 + T}) $$\n",
        "\n",
        "Where $AT$ is the apparent temperature (°C), $T$ is the actual temperature (°C), $RH$ is the relative humidity (%), and $V$ is the wind speed (m/s)."
      ]
    },
    {
      "cell_type": "code",
      "execution_count": null,
      "metadata": {
        "id": "4YEvQ-Z9tdQ_"
      },
      "outputs": [],
      "source": [
        "import numpy as np  # Import the numpy library for mathematical operations"
      ]
    },
    {
      "cell_type": "code",
      "execution_count": null,
      "metadata": {
        "id": "8exgdzNatdQ_"
      },
      "outputs": [],
      "source": [
        "e = (\n",
        "    df[\"humidity\"]\n",
        "    / 100\n",
        "    * 6.105\n",
        "    * np.exp((17.27 * df[\"temperature\"]) / (237.7 + df[\"temperature\"]))\n",
        ")\n",
        "\n",
        "# Complete the formula for apparent temperature\n",
        "df[\"apparent_temperature\"] = ..."
      ]
    },
    {
      "cell_type": "code",
      "execution_count": null,
      "metadata": {
        "id": "RhkpE2tltdQ_"
      },
      "outputs": [],
      "source": [
        "# Plot the apparent temperature data\n",
        "\n",
        "plt.plot(df[\"date\"], df[\"apparent_temperature\"], label=\"Apparent Temperature\")\n",
        "plt.plot(df[\"date\"], df[\"temperature\"], label=\"Temperature\")\n",
        "plt.title(\"Apparent Temperature\")\n",
        "plt.xlabel(\"Date\")\n",
        "plt.ylabel(\"Temperature in Celsius\")\n",
        "plt.legend()\n",
        "plt.show()"
      ]
    },
    {
      "cell_type": "markdown",
      "metadata": {
        "id": "c-lTFMRRtdQ_"
      },
      "source": [
        "<details>\n",
        "\n",
        "<summary>Answer</summary>\n",
        "\n",
        "\n",
        "```python\n",
        "df[\"apparent_temperature\"]  = 1.07 * df[\"temperature\"] + 0.2 * e - 0.65 * df[\"wind_speed\"] - 2.7\n",
        "```\n",
        "\n",
        "</details>"
      ]
    },
    {
      "cell_type": "markdown",
      "metadata": {
        "id": "5lJ7a6JTtdRA"
      },
      "source": [
        "---\n",
        "\n",
        "## Task 5 - Linear Regression\n",
        "\n",
        "Linear regression is a linear approach to modeling the relationship between a dependent variable and one or more independent variables.\n",
        "\n",
        "\n",
        "Scipy is a powerful library for scientific computing, under the scipy.stats module, we can find the linregress function, which allows us to perform linear regression."
      ]
    },
    {
      "cell_type": "code",
      "execution_count": null,
      "metadata": {
        "id": "XY9z40HntdRA"
      },
      "outputs": [],
      "source": [
        "# Display the similarity between the temperature and apparent temperature data\n",
        "\n",
        "plt.scatter(df[\"temperature\"], df[\"apparent_temperature\"], marker=\"x\")\n",
        "plt.title(\"Apparent Temperature vs Temperature in Celsius\")\n",
        "plt.xlabel(\"Temperature\")\n",
        "plt.ylabel(\"Apparent Temperature\")\n",
        "plt.show()"
      ]
    },
    {
      "cell_type": "markdown",
      "metadata": {
        "id": "Al83-ccatdRA"
      },
      "source": [
        "The relationship between the apparent temperature and the actual temperature is linear!\n",
        "\n",
        "We can use linear regression to predict the apparent temperature based on the actual temperature."
      ]
    },
    {
      "cell_type": "code",
      "execution_count": null,
      "metadata": {
        "id": "KjrOU3w_tdRA"
      },
      "outputs": [],
      "source": [
        "import scipy.stats as stats  # Import the scipy.stats library for statistical tests"
      ]
    },
    {
      "cell_type": "code",
      "execution_count": null,
      "metadata": {
        "id": "dRtIViXitdRA"
      },
      "outputs": [],
      "source": [
        "# SciPy's linregress function computes the linear regression\n",
        "slope, intercept, rvalue, pvalue, _ = stats.linregress(\n",
        "    df[\"temperature\"], df[\"apparent_temperature\"]\n",
        ")"
      ]
    },
    {
      "cell_type": "code",
      "execution_count": null,
      "metadata": {
        "id": "7J8JsWGvtdRA"
      },
      "outputs": [],
      "source": [
        "# Display the data with the regression line\n",
        "plt.scatter(df[\"temperature\"], df[\"apparent_temperature\"], marker=\"x\")\n",
        "\n",
        "# Plot the regression line\n",
        "t = np.linspace(5, 40, 100)\n",
        "plt.plot(\n",
        "    t, slope * t + intercept, color=\"red\", label=f\"AT = {slope:.2f} T + {intercept:.2f}\"\n",
        ")\n",
        "\n",
        "plt.title(\"Temperature vs Apparent Temperature\")\n",
        "plt.legend()\n",
        "plt.xlabel(\"Temperature\")\n",
        "plt.ylabel(\"Apparent Temperature\")\n",
        "plt.show()"
      ]
    },
    {
      "cell_type": "markdown",
      "metadata": {
        "id": "NippQoIftdRA"
      },
      "source": [
        "### Significance of the regression coefficient\n",
        "\n",
        "The regression coefficient (slope) is a measure of the strength and direction of the relationship between the independent variable and the dependent variable. The significance of the regression coefficient is given by the p-value.\n",
        "\n",
        "\n",
        "### p-value\n",
        "\n",
        "The p-value is a measure of the probability that the relationship between the independent variable and the dependent variable is due to random chance. If the p-value is less than 0.05, we can conclude that the relationship between the independent variable and the dependent variable is significant.\n",
        "\n"
      ]
    },
    {
      "cell_type": "code",
      "execution_count": null,
      "metadata": {
        "id": "g2HVUEcWtdRB"
      },
      "outputs": [],
      "source": [
        "print(f\"The p-value is {pvalue:.4f}.\")"
      ]
    },
    {
      "cell_type": "markdown",
      "metadata": {
        "id": "ClKXgvdFtdRB"
      },
      "source": [
        "### R-squared\n",
        "\n",
        "The R-squared is a measure of the goodness of fit of the regression model. The R-squared is a value between 0 and 1, where 0 means that the model does not explain the variance in the dependent variable, and 1 means that the model explains all the variance in the dependent variable. The R-squared is significant if it is greater than 0.5."
      ]
    },
    {
      "cell_type": "code",
      "execution_count": null,
      "metadata": {
        "id": "CFJ29gGqtdRB"
      },
      "outputs": [],
      "source": [
        "print(f\"The R-squared value is {rvalue**2:.4f}.\")"
      ]
    },
    {
      "cell_type": "markdown",
      "metadata": {
        "id": "ecUvqflktdRB"
      },
      "source": [
        "### Try it Yourself!\n",
        "\n",
        "\n",
        "Perform a linear regression between the humidity and the apparent temperature."
      ]
    },
    {
      "cell_type": "code",
      "execution_count": null,
      "metadata": {
        "id": "CiFdpR3jtdRB"
      },
      "outputs": [],
      "source": [
        "# Complete me!"
      ]
    },
    {
      "cell_type": "markdown",
      "metadata": {
        "id": "bomTP4NatdRB"
      },
      "source": [
        "<details>\n",
        "    <summary>Answer</summary>\n",
        "\n",
        "```python\n",
        "# Display the similarity between the temperature and apparent temperature data\n",
        "\n",
        "plt.scatter(df['humidity'], df['apparent_temperature'], marker='x')\n",
        "plt.title('Apparent Temperature vs Humidity')\n",
        "plt.xlabel('Humidity')\n",
        "plt.ylabel('Apparent Temperature')\n",
        "plt.show()\n",
        "\n",
        "# Perform a linear regression between humidity and apparent temperature\n",
        "\n",
        "slope, intercept, rvalue, pvalue, _ = stats.linregress(df['humidity'], df['apparent_temperature'])\n",
        "\n",
        "# Display the data with the regression line\n",
        "\n",
        "plt.scatter(df['humidity'], df['apparent_temperature'], marker='x')\n",
        "\n",
        "# Plot the regression line\n",
        "h = np.linspace(0, 100, 100)\n",
        "plt.plot(h, slope * h + intercept, color='red', label = f\"AT = {slope:.2f} H + {intercept:.2f}\")\n",
        "\n",
        "plt.title('Apparent Temperature vs Humidity')\n",
        "plt.legend()\n",
        "plt.xlabel('Humidity')\n",
        "plt.ylabel('Apparent Temperature')\n",
        "plt.show()\n",
        "\n",
        "\n",
        "print(f'The p-value is {pvalue:.4f}.')\n",
        "print(f'The R-squared value is {rvalue**2:.4f}.')\n",
        "\n",
        "```\n",
        "\n",
        "</details>"
      ]
    },
    {
      "cell_type": "markdown",
      "metadata": {
        "id": "SiOdjsCGtdRC"
      },
      "source": [
        "---\n",
        "\n",
        "## Task 6 - T-test\n",
        "\n",
        "The t-test is a statistical test used to determine whether there is a significant difference between the means of two groups. The t-test also tells you how significant the differences are; In other words it lets you know if those differences could have happened by chance.\n",
        "\n",
        "\n",
        "The `scipy.stats` module provides the `ttest_ind` function, which allows us to perform a t-test.\n",
        "\n",
        "`ttest_ind` results in a t-statistic and a p-value, the t-statistic is a measure of the difference between the means of the two groups, the higher the magnitude of the t-statistic, the more significant the difference between the means of the two groups. Similar to the linear regression, the p-value is a measure of the probability that the difference between the means of the two groups is due to random chance. If the p-value is less than 0.05, we can conclude that the difference between the means of the two groups is significant.\n",
        "\n"
      ]
    },
    {
      "cell_type": "markdown",
      "metadata": {
        "id": "EP-RaKeVtdRC"
      },
      "source": [
        "### Example 1. How different is the apparent temperature between the months of January and Jun?"
      ]
    },
    {
      "cell_type": "code",
      "execution_count": null,
      "metadata": {
        "id": "3GzkroW5tdRD"
      },
      "outputs": [],
      "source": [
        "jan_data = df[df[\"month\"] == 1]\n",
        "jun_data = df[df[\"month\"] == 6]\n",
        "\n",
        "# Plot the temperature data for January and Jun\n",
        "plt.hist(jan_data[\"apparent_temperature\"], bins=20, label=\"January\", histtype=\"step\")\n",
        "plt.hist(jun_data[\"apparent_temperature\"], bins=20, label=\"June\", histtype=\"step\")\n",
        "plt.title(\"Temperature Distribution\")\n",
        "plt.xlabel(\"Temperature\")\n",
        "plt.ylabel(\"Frequency\")\n",
        "plt.legend()\n",
        "plt.show()"
      ]
    },
    {
      "cell_type": "code",
      "execution_count": null,
      "metadata": {
        "id": "MnQYwB75tdRD"
      },
      "outputs": [],
      "source": [
        "# T-test for the apparent temperature in January and June\n",
        "\n",
        "t_stat, p_val = stats.ttest_ind(\n",
        "    jun_data[\"apparent_temperature\"], jan_data[\"apparent_temperature\"]\n",
        ")"
      ]
    },
    {
      "cell_type": "code",
      "execution_count": null,
      "metadata": {
        "id": "012sgPUDtdRD"
      },
      "outputs": [],
      "source": [
        "print(f\"The p-value is {p_val:.4f}.\")"
      ]
    },
    {
      "cell_type": "code",
      "execution_count": null,
      "metadata": {
        "id": "J9hDxvzCtdRD"
      },
      "outputs": [],
      "source": [
        "print(f\"The t-statistic is {t_stat:.4f}.\")"
      ]
    },
    {
      "cell_type": "markdown",
      "metadata": {
        "id": "g3-velJRtdRD"
      },
      "source": [
        "### The magnitude of the p-value is\n",
        "- ### high | small,\n",
        "### and the t-statistic is\n",
        "- ### high | small,\n",
        "### therefore the difference between the means of the two groups is\n",
        "- ### significant | not significant."
      ]
    },
    {
      "cell_type": "markdown",
      "metadata": {
        "id": "YJF9lS2RtdRE"
      },
      "source": [
        "### Example 2. How different is the apparent temperature between the months of February and December?"
      ]
    },
    {
      "cell_type": "code",
      "execution_count": null,
      "metadata": {
        "id": "RQiaY2WxtdRE"
      },
      "outputs": [],
      "source": [
        "# Complete me!"
      ]
    },
    {
      "cell_type": "markdown",
      "metadata": {
        "id": "Qv8oIxCHtdRE"
      },
      "source": [
        "<details>\n",
        "  <summary>Answer</summary>\n",
        "  \n",
        "  \n",
        "```python\n",
        "feb_data = df[df[\"month\"] == 2]\n",
        "dec_data = df[df[\"month\"] == 12]\n",
        "\n",
        "# Plot the temperature data\n",
        "plt.hist(feb_data[\"apparent_temperature\"], bins=20, label=\"February\", histtype=\"step\")\n",
        "plt.hist(dec_data[\"apparent_temperature\"], bins=20, label=\"December\", histtype=\"step\")\n",
        "plt.title(\"Temperature Distribution\")\n",
        "plt.xlabel(\"Temperature\")\n",
        "plt.ylabel(\"Frequency\")\n",
        "plt.legend()\n",
        "plt.show()\n",
        "\n",
        "t_stat, p_val = stats.ttest_ind(feb_data[\"apparent_temperature\"], dec_data[\"apparent_temperature\"])\n",
        "\n",
        "print(f'The p-value is {p_val:.4f}.')\n",
        "print(f'The t-statistic is {t_stat:.4f}.')\n",
        "\n",
        "```\n",
        "\n",
        "</details>\n"
      ]
    }
  ],
  "metadata": {
    "kernelspec": {
      "display_name": ".venv",
      "language": "python",
      "name": "python3"
    },
    "language_info": {
      "codemirror_mode": {
        "name": "ipython",
        "version": 3
      },
      "file_extension": ".py",
      "mimetype": "text/x-python",
      "name": "python",
      "nbconvert_exporter": "python",
      "pygments_lexer": "ipython3",
      "version": "3.12.0b3"
    },
    "colab": {
      "provenance": []
    }
  },
  "nbformat": 4,
  "nbformat_minor": 0
}