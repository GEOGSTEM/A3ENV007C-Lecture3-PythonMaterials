{
  "nbformat": 4,
  "nbformat_minor": 0,
  "metadata": {
    "colab": {
      "provenance": []
    },
    "kernelspec": {
      "name": "python3",
      "display_name": "Python 3"
    },
    "language_info": {
      "name": "python"
    }
  },
  "cells": [
    {
      "cell_type": "markdown",
      "source": [
        "# A3ENV007C Exercise 1 - Fundamental Operations in Python\n",
        "\n",
        "In this section, we will revisit the how we conduct basic mathematical calculation with Python, and to apply some looping to solve the problem."
      ],
      "metadata": {
        "id": "8CQ5sqYeSf1q"
      }
    },
    {
      "cell_type": "markdown",
      "source": [
        "---\n",
        "## Task 1a - Basic Mathematical Operations"
      ],
      "metadata": {
        "id": "_rs-5Nw4oe6d"
      }
    },
    {
      "cell_type": "code",
      "execution_count": null,
      "metadata": {
        "id": "3yjOrzrBl7hz"
      },
      "outputs": [],
      "source": [
        "x = 10\n",
        "y = 4\n",
        "\n",
        "print(x + y)\n",
        "print(x - y)\n",
        "print(x * y)\n",
        "print(x / y)\n",
        "print(x % y)\n",
        "print(x ** y)\n",
        "print(x // y)"
      ]
    },
    {
      "cell_type": "markdown",
      "source": [
        "---\n",
        "## Task 1b -  Type Conversion"
      ],
      "metadata": {
        "id": "XUjla3PiVApo"
      }
    },
    {
      "cell_type": "code",
      "source": [
        "x = 16.8\n",
        "x?\n",
        "\n",
        "y = int(x)\n",
        "y?"
      ],
      "metadata": {
        "id": "AfArU8RzYlri"
      },
      "execution_count": 9,
      "outputs": []
    },
    {
      "cell_type": "code",
      "source": [
        "z = float(x)\n",
        "z?"
      ],
      "metadata": {
        "id": "kQnlX8FBY-Oe"
      },
      "execution_count": 10,
      "outputs": []
    },
    {
      "cell_type": "code",
      "source": [
        "word = str(x)\n",
        "word?"
      ],
      "metadata": {
        "id": "qrqVF1tuZAgG"
      },
      "execution_count": 11,
      "outputs": []
    },
    {
      "cell_type": "markdown",
      "source": [
        "---\n",
        "## Task 2a - If Else (Decision Making Process)"
      ],
      "metadata": {
        "id": "8MAV_1ekX6TF"
      }
    },
    {
      "cell_type": "markdown",
      "source": [
        "Nested if statement"
      ],
      "metadata": {
        "id": "gIp03-XyDwKM"
      }
    },
    {
      "cell_type": "code",
      "source": [
        "number = 5\n",
        "\n",
        "# outer if statement\n",
        "if number >= 0:\n",
        "    # inner if statement\n",
        "    if number == 0:\n",
        "      print('Number is 0')\n",
        "\n",
        "    # inner else statement\n",
        "    else:\n",
        "        print('Number is positive')\n",
        "\n",
        "# outer else statement\n",
        "else:\n",
        "    print('Number is negative')"
      ],
      "metadata": {
        "id": "2hJ0i1uXD1MX"
      },
      "execution_count": null,
      "outputs": []
    },
    {
      "cell_type": "markdown",
      "source": [
        "---\n",
        "## Task 2b - For Loop (Repeat to do some work)"
      ],
      "metadata": {
        "id": "WUPqq-AwKQ47"
      }
    },
    {
      "cell_type": "markdown",
      "source": [
        "### Example 1: Print a sequential number order"
      ],
      "metadata": {
        "id": "07J32X0xhewZ"
      }
    },
    {
      "cell_type": "code",
      "source": [
        "for i in range(10):\n",
        "    print(i)"
      ],
      "metadata": {
        "id": "pCHL2-KNKUOn",
        "colab": {
          "base_uri": "https://localhost:8080/"
        },
        "outputId": "280050fc-0689-478e-ecc7-37ba3fdfb57d"
      },
      "execution_count": 1,
      "outputs": [
        {
          "output_type": "stream",
          "name": "stdout",
          "text": [
            "0\n",
            "1\n",
            "2\n",
            "3\n",
            "4\n",
            "5\n",
            "6\n",
            "7\n",
            "8\n",
            "9\n"
          ]
        }
      ]
    },
    {
      "cell_type": "markdown",
      "source": [
        "### Example 2: Print some outputs with allocated meanings"
      ],
      "metadata": {
        "id": "W_He2U5fhm5l"
      }
    },
    {
      "cell_type": "code",
      "source": [
        "for j in range(1,4):\n",
        "  print('The current loop is '+str(j))\n",
        "  if j == 1:\n",
        "    print('Phase 1 - A3ENV005C')\n",
        "  if j == 2:\n",
        "    print('Phase 2 - A3ENV006C')\n",
        "  if j == 3:\n",
        "    print('Phase 3 - A3ENV007C')"
      ],
      "metadata": {
        "colab": {
          "base_uri": "https://localhost:8080/"
        },
        "id": "Hbc1I9QqRxa6",
        "outputId": "1b5bf755-dae7-4950-cab2-5a4c99e187ed"
      },
      "execution_count": 5,
      "outputs": [
        {
          "output_type": "stream",
          "name": "stdout",
          "text": [
            "The current loop is 1\n",
            "Phase 1 - A3ENV005C\n",
            "The current loop is 2\n",
            "Phase 2 - A3ENV006C\n",
            "The current loop is 3\n",
            "Phase 3 - A3ENV007C\n"
          ]
        }
      ]
    },
    {
      "cell_type": "markdown",
      "source": [
        "### Example 3: Application of For Loop\n",
        "- Try to use a For Loop to print the even numbers in the interval [1,20]."
      ],
      "metadata": {
        "id": "6tRvihevhcFI"
      }
    },
    {
      "cell_type": "code",
      "source": [],
      "metadata": {
        "id": "LQ7G4H24h-na"
      },
      "execution_count": null,
      "outputs": []
    },
    {
      "cell_type": "markdown",
      "source": [
        "<details>\n",
        "\n",
        "<summary>Answer</summary>\n",
        "\n",
        "\n",
        "```python\n",
        "# Setup for loop for the range between 1 and 20\n",
        "for i in range(1,20+1):\n",
        "    # Set a condition of the output i, if i can be divided by 2, print 2\n",
        "    if i%2 == 0:\n",
        "        print(i)\n",
        "```\n",
        "\n",
        "</details>"
      ],
      "metadata": {
        "id": "vlHJ8GMLiST0"
      }
    },
    {
      "cell_type": "markdown",
      "source": [
        "- Try to use a For Loop to print squares of the integers in the interval [0,31]."
      ],
      "metadata": {
        "id": "CzgKFcwdiAWO"
      }
    },
    {
      "cell_type": "code",
      "source": [],
      "metadata": {
        "id": "hitr5i-ciEzx"
      },
      "execution_count": null,
      "outputs": []
    },
    {
      "cell_type": "markdown",
      "source": [
        "<details>\n",
        "\n",
        "<summary>Answer</summary>\n",
        "\n",
        "\n",
        "```python\n",
        "for i in range(0,31+1):\n",
        "    print ('i=',i,'Square of i=',i**2)\n",
        "```\n",
        "\n",
        "</details>"
      ],
      "metadata": {
        "id": "1lbMnMe3inN2"
      }
    },
    {
      "cell_type": "markdown",
      "source": [
        "---\n",
        "# Task 3 - Non-linear mathematics\n",
        "1+1=2 is easy to calculate and easy to type in into the Python coding, but how about some non-linear equations?\n",
        "\n",
        "Let's try to define an x array (using the Numpy function .linspace()) of ten equally spaced numbers ranging from 0 to 100, we will get a list of x with values from 0 to 100 with spaced at 11. (i.e. 0, 10, 20, 30, ... , 100)\n",
        "\n",
        "For y array, we will use the following equation as a function of x:\n",
        "\n",
        "# y = 12$x^{3}$ - $e^{0.5x}$"
      ],
      "metadata": {
        "id": "9p9Zwq-GTbSb"
      }
    },
    {
      "cell_type": "code",
      "source": [
        "import numpy as np\n",
        "import matplotlib.pyplot as plt\n",
        "from scipy import interpolate\n",
        "#defining x and y arrays of the initial data set\n",
        "x = np.linspace(0, 100,11)\n",
        "y = 12*x**3 - np.exp(0.5*x)\n",
        "\n",
        "print(\"x:\")\n",
        "print(x)\n",
        "\n",
        "print(\"y:\")\n",
        "print(y)\n",
        "\n",
        "plt.figure()\n",
        "plt.plot(x,y)\n",
        "plt.show()"
      ],
      "metadata": {
        "colab": {
          "base_uri": "https://localhost:8080/",
          "height": 552
        },
        "id": "fz1VUug0Z0CY",
        "outputId": "61711378-e2fa-4dc9-b4f6-696cc9d28dc0"
      },
      "execution_count": 15,
      "outputs": [
        {
          "output_type": "stream",
          "name": "stdout",
          "text": [
            "x:\n",
            "[  0.  10.  20.  30.  40.  50.  60.  70.  80.  90. 100.]\n",
            "y:\n",
            "[-1.00000000e+00  1.18515868e+04  7.39735342e+04 -2.94501737e+06\n",
            " -4.84397195e+08 -7.20033993e+10 -1.06864720e+13 -1.58601345e+15\n",
            " -2.35385267e+17 -3.49342711e+19 -5.18470553e+21]\n"
          ]
        },
        {
          "output_type": "display_data",
          "data": {
            "text/plain": [
              "<Figure size 640x480 with 1 Axes>"
            ],
            "image/png": "[encoded data removed]"
          },
          "metadata": {}
        }
      ]
    },
    {
      "cell_type": "markdown",
      "source": [
        "Since the process of interpolation allows for obtaining the value of unknown points located within the range of the already known ones, we now define another x array that will contain more points than the first x array (“x”). In particular, we exploit again ***.linspace()*** to build an array of 11 equally spaced numbers \"x\".\n",
        "\n",
        "** Q&A: Please modify the code. Can you tell me why we need to use 11 instead of 10?"
      ],
      "metadata": {
        "id": "S3SlpPj7aUUz"
      }
    },
    {
      "cell_type": "code",
      "source": [
        "# x array that will be used for interpolating new point values\n",
        "x_new = np.linspace(0, 100, 10)\n",
        "\n",
        "print(x_new)"
      ],
      "metadata": {
        "colab": {
          "base_uri": "https://localhost:8080/"
        },
        "id": "c2VQhYmLaYui",
        "outputId": "d11f560d-4060-4148-fd40-c8a7614da6af"
      },
      "execution_count": 14,
      "outputs": [
        {
          "output_type": "stream",
          "name": "stdout",
          "text": [
            "[  0.          11.11111111  22.22222222  33.33333333  44.44444444\n",
            "  55.55555556  66.66666667  77.77777778  88.88888889 100.        ]\n"
          ]
        }
      ]
    },
    {
      "cell_type": "markdown",
      "source": [
        "### Exercise - Try to plot the x-y function of:\n",
        "# $x$ = 3$y^{2}$$e^{-3y}$"
      ],
      "metadata": {
        "id": "NX1VP6xYeZFV"
      }
    }
  ]
}